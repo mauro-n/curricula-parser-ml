{
 "cells": [
  {
   "cell_type": "code",
   "execution_count": 1,
   "metadata": {},
   "outputs": [],
   "source": [
    "import csv\n",
    "\n",
    "with open('../csv/output.csv', 'r') as csvfile:\n",
    "    reader = csv.reader(csvfile, delimiter=';')\n",
    "    with open('../csv/output2.csv', 'w', newline='') as outfile:\n",
    "        writer = csv.writer(outfile, delimiter=',')\n",
    "        writer.writerows(reader)"
   ]
  }
 ],
 "metadata": {
  "kernelspec": {
   "display_name": "Python 3 (ipykernel)",
   "language": "python",
   "name": "python3"
  },
  "language_info": {
   "codemirror_mode": {
    "name": "ipython",
    "version": 3
   },
   "file_extension": ".py",
   "mimetype": "text/x-python",
   "name": "python",
   "nbconvert_exporter": "python",
   "pygments_lexer": "ipython3",
   "version": "3.10.12"
  }
 },
 "nbformat": 4,
 "nbformat_minor": 2
}
