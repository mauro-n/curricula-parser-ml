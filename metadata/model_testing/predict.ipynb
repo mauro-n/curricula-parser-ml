{
 "cells": [
  {
   "cell_type": "code",
   "execution_count": 10,
   "metadata": {},
   "outputs": [],
   "source": [
    "import pdftotext\n",
    "import logging\n",
    "import spacy\n",
    "import joblib\n",
    "import logging\n",
    "import numpy as np"
   ]
  },
  {
   "cell_type": "code",
   "execution_count": 11,
   "metadata": {},
   "outputs": [],
   "source": [
    "logging.basicConfig(level=logging.INFO, format='%(asctime)s - %(levelname)s - %(message)s')\n",
    "logger = logging.getLogger(__name__)"
   ]
  },
  {
   "cell_type": "code",
   "execution_count": 12,
   "metadata": {},
   "outputs": [],
   "source": [
    "class_mapping = {\n",
    "    'ACCOUNTANT': 0,\n",
    "    'ADVOCATE': 1,\n",
    "    'AGRICULTURE': 2,\n",
    "    'APPAREL': 3,\n",
    "    'ARTS': 4,\n",
    "    'AUTOMOBILE': 5,\n",
    "    'AVIATION': 6,\n",
    "    'BANKING': 7,\n",
    "    'BPO': 8,\n",
    "    'BUSINESS-DEVELOPMENT': 9,\n",
    "    'CHEF': 10,\n",
    "    'CONSTRUCTION': 11,\n",
    "    'CONSULTANT': 12,\n",
    "    'DESIGNER': 13,\n",
    "    'DIGITAL-MEDIA': 14,\n",
    "    'ENGINEERING': 15,\n",
    "    'FINANCE': 16,\n",
    "    'FITNESS': 17,\n",
    "    'HEALTHCARE': 18,\n",
    "    'HR': 19,\n",
    "    'INFORMATION-TECHNOLOGY': 20,\n",
    "    'PUBLIC-RELATIONS': 21,\n",
    "    'SALES': 22,\n",
    "    'TEACHER': 23\n",
    "}"
   ]
  },
  {
   "cell_type": "code",
   "execution_count": 13,
   "metadata": {},
   "outputs": [],
   "source": [
    "model = joblib.load(\"../../app/AIModel/domain/model_xg.pkl\")\n",
    "vectorizer = joblib.load(\"../../app/AIModel/domain/vector_xg.pkl\")\n",
    "nlp = spacy.load(\"en_core_web_lg\")"
   ]
  },
  {
   "cell_type": "code",
   "execution_count": 14,
   "metadata": {},
   "outputs": [],
   "source": [
    "def remove_stopwords_and_lemmatize(text):\n",
    "    cleaned_text = ' '.join(text.strip().split())\n",
    "    doc = nlp(cleaned_text.lower())\n",
    "    tokens_lemmatized = [token.lemma_ for token in doc if not token.is_stop and not token.is_punct]\n",
    "    return ' '.join(tokens_lemmatized)"
   ]
  },
  {
   "cell_type": "code",
   "execution_count": 15,
   "metadata": {},
   "outputs": [],
   "source": [
    "def extract_text_from_pdf(pdf_file):\n",
    "    with open(pdf_file, \"rb\") as f:\n",
    "        pdf = pdftotext.PDF(f)\n",
    "    return \"\\n\\n\".join(pdf)"
   ]
  },
  {
   "cell_type": "code",
   "execution_count": 16,
   "metadata": {},
   "outputs": [],
   "source": [
    "def process_pdf_and_classify(pdf_file):\n",
    "    text = extract_text_from_pdf(pdf_file)\n",
    "    preprocessed_text = remove_stopwords_and_lemmatize(text)\n",
    "    X = np.array([preprocessed_text])\n",
    "    X_vec = vectorizer.transform(X)\n",
    "    probabilities = model.predict_proba(X_vec)\n",
    "    return probabilities"
   ]
  },
  {
   "cell_type": "code",
   "execution_count": 17,
   "metadata": {},
   "outputs": [],
   "source": [
    "def top_probabilities(probabilities):\n",
    "    top_indices = np.argsort(probabilities[0])[::-1][:5]\n",
    "    print(\"Top 5 probabilidades:\")\n",
    "    for idx in top_indices:\n",
    "        class_name = [key for key, value in class_mapping.items() if value == idx][0]\n",
    "        prob_percent = probabilities[0][idx] * 100\n",
    "        print(f\"{class_name}: {prob_percent:.2f}%\")"
   ]
  },
  {
   "cell_type": "code",
   "execution_count": 38,
   "metadata": {},
   "outputs": [],
   "source": [
    "pdf_file = 'TEACHER.pdf'\n",
    "probabilities = process_pdf_and_classify(pdf_file)"
   ]
  },
  {
   "cell_type": "code",
   "execution_count": 39,
   "metadata": {},
   "outputs": [
    {
     "name": "stdout",
     "output_type": "stream",
     "text": [
      "Top 5 probabilidades:\n",
      "TEACHER: 99.90%\n",
      "BUSINESS-DEVELOPMENT: 0.02%\n",
      "AGRICULTURE: 0.01%\n",
      "SALES: 0.01%\n",
      "ARTS: 0.01%\n"
     ]
    }
   ],
   "source": [
    "top_probabilities(probabilities) "
   ]
  }
 ],
 "metadata": {
  "kernelspec": {
   "display_name": "Python 3",
   "language": "python",
   "name": "python3"
  },
  "language_info": {
   "codemirror_mode": {
    "name": "ipython",
    "version": 3
   },
   "file_extension": ".py",
   "mimetype": "text/x-python",
   "name": "python",
   "nbconvert_exporter": "python",
   "pygments_lexer": "ipython3",
   "version": "3.10.12"
  }
 },
 "nbformat": 4,
 "nbformat_minor": 2
}
