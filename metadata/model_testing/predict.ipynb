{
 "cells": [
  {
   "cell_type": "code",
   "execution_count": 74,
   "metadata": {},
   "outputs": [],
   "source": [
    "import pdftotext\n",
    "import logging\n",
    "import spacy\n",
    "import joblib\n",
    "import logging\n",
    "import numpy as np\n",
    "import matplotlib.pyplot as plt\n",
    "import os"
   ]
  },
  {
   "cell_type": "code",
   "execution_count": 75,
   "metadata": {},
   "outputs": [],
   "source": [
    "logging.basicConfig(level=logging.INFO, format='%(asctime)s - %(levelname)s - %(message)s')\n",
    "logger = logging.getLogger(__name__)"
   ]
  },
  {
   "cell_type": "code",
   "execution_count": 76,
   "metadata": {},
   "outputs": [],
   "source": [
    "class_mapping = {\n",
    "    'ACCOUNTANT': 0,\n",
    "    'ADVOCATE': 1,\n",
    "    'AGRICULTURE': 2,\n",
    "    'APPAREL': 3,\n",
    "    'ARTS': 4,\n",
    "    'AUTOMOBILE': 5,\n",
    "    'AVIATION': 6,\n",
    "    'BANKING': 7,\n",
    "    'BPO': 8,\n",
    "    'BUSINESS-DEVELOPMENT': 9,\n",
    "    'CHEF': 10,\n",
    "    'CONSTRUCTION': 11,\n",
    "    'CONSULTANT': 12,\n",
    "    'DESIGNER': 13,\n",
    "    'DIGITAL-MEDIA': 14,\n",
    "    'ENGINEERING': 15,\n",
    "    'FINANCE': 16,\n",
    "    'FITNESS': 17,\n",
    "    'HEALTHCARE': 18,\n",
    "    'HR': 19,\n",
    "    'INFORMATION-TECHNOLOGY': 20,\n",
    "    'PUBLIC-RELATIONS': 21,\n",
    "    'SALES': 22,\n",
    "    'TEACHER': 23\n",
    "}"
   ]
  },
  {
   "cell_type": "code",
   "execution_count": 77,
   "metadata": {},
   "outputs": [],
   "source": [
    "model = joblib.load(\"../../app/AIModel/domain/model.pkl\")\n",
    "vectorizer = joblib.load(\"../../app/AIModel/domain/vector.pkl\")\n",
    "nlp = spacy.load(\"en_core_web_lg\")"
   ]
  },
  {
   "cell_type": "code",
   "execution_count": 78,
   "metadata": {},
   "outputs": [],
   "source": [
    "def remove_stopwords_and_lemmatize(text):\n",
    "    cleaned_text = ' '.join(text.strip().split())\n",
    "    doc = nlp(cleaned_text.lower())\n",
    "    tokens_lemmatized = [token.lemma_ for token in doc if not token.is_stop and not token.is_punct]\n",
    "    return ' '.join(tokens_lemmatized)"
   ]
  },
  {
   "cell_type": "code",
   "execution_count": 79,
   "metadata": {},
   "outputs": [],
   "source": [
    "def extract_text_from_pdf(pdf_file):\n",
    "    with open(pdf_file, \"rb\") as f:\n",
    "        pdf = pdftotext.PDF(f)\n",
    "    return \"\\n\\n\".join(pdf)"
   ]
  },
  {
   "cell_type": "code",
   "execution_count": 80,
   "metadata": {},
   "outputs": [],
   "source": [
    "def process_pdf_and_classify(pdf_file):\n",
    "    text = extract_text_from_pdf(pdf_file)\n",
    "    preprocessed_text = remove_stopwords_and_lemmatize(text)\n",
    "    X = np.array([preprocessed_text])\n",
    "    X_vec = vectorizer.transform(X)\n",
    "    probabilities = model.predict_proba(X_vec)\n",
    "    return probabilities"
   ]
  },
  {
   "cell_type": "code",
   "execution_count": 81,
   "metadata": {},
   "outputs": [],
   "source": [
    "def top_probabilities(probabilities):\n",
    "    prob_list = list(probabilities[0])\n",
    "    sorted_indices = sorted(range(len(prob_list)), key=lambda i: prob_list[i], reverse=True)[:5]\n",
    "    for idx in sorted_indices:\n",
    "        class_name = [key for key, value in class_mapping.items() if value == idx][0]\n",
    "        prob_percent = prob_list[idx] * 100\n",
    "        logger.info(f\"{class_name}: {prob_percent:.2f}%\")\n"
   ]
  },
  {
   "cell_type": "code",
   "execution_count": 82,
   "metadata": {},
   "outputs": [],
   "source": [
    "def plot_percentage_bar(decimal_percentage):\n",
    "    labels = ['']\n",
    "    values = [decimal_percentage]\n",
    "    plt.figure(figsize=(6, 4))\n",
    "    plt.bar(labels, values, color='green')\n",
    "    plt.title(f\"Accuracy: {decimal_percentage}%\")\n",
    "    plt.ylabel('%')\n",
    "    plt.ylim(0, 1) \n",
    "    plt.grid(True)\n",
    "    plt.show()"
   ]
  },
  {
   "cell_type": "code",
   "execution_count": 83,
   "metadata": {},
   "outputs": [
    {
     "name": "stderr",
     "output_type": "stream",
     "text": [
      "2024-06-24 09:25:28,140 - INFO - FITNESS: 94.19%\n",
      "2024-06-24 09:25:28,147 - INFO - AGRICULTURE: 3.01%\n",
      "2024-06-24 09:25:28,148 - INFO - DIGITAL-MEDIA: 1.84%\n",
      "2024-06-24 09:25:28,148 - INFO - ARTS: 0.22%\n",
      "2024-06-24 09:25:28,149 - INFO - AVIATION: 0.10%\n"
     ]
    }
   ],
   "source": [
    "pdf_file = 'db/FITNESS.pdf'\n",
    "probabilities = process_pdf_and_classify(pdf_file)\n",
    "top_probabilities(probabilities) "
   ]
  },
  {
   "cell_type": "code",
   "execution_count": 84,
   "metadata": {},
   "outputs": [],
   "source": [
    "def classify_pdfs_in_folder(folder_path):\n",
    "    classifications = []\n",
    "    for filename in os.listdir(folder_path):\n",
    "        if filename.endswith(\".pdf\"):\n",
    "            pdf_file = os.path.join(folder_path, filename)\n",
    "            probabilities = process_pdf_and_classify(pdf_file)\n",
    "            top_indices = np.argsort(probabilities[0])[::-1][:1]\n",
    "            predicted_class = [key for key, value in class_mapping.items() if value == top_indices[0]][0]\n",
    "            correct_class = filename.split(\".\")[0]\n",
    "            classifications.append(1 if predicted_class == correct_class else 0)\n",
    "            if predicted_class == correct_class:\n",
    "                logger.info(f\"+CORRECT classification: {predicted_class} (filename: {filename})\")\n",
    "            else:\n",
    "                logger.info(f\"-INCORRECT classification: predicted {predicted_class}, (filename: {filename})\")\n",
    "    return classifications"
   ]
  },
  {
   "cell_type": "code",
   "execution_count": 85,
   "metadata": {},
   "outputs": [
    {
     "name": "stderr",
     "output_type": "stream",
     "text": [
      "2024-06-24 09:25:28,448 - INFO - +CORRECT classification: TEACHER (filename: TEACHER.pdf)\n",
      "2024-06-24 09:25:28,598 - INFO - -INCORRECT classification: predicted ARTS, (filename: APPAREL.pdf)\n",
      "2024-06-24 09:25:28,787 - INFO - -INCORRECT classification: predicted BANKING, (filename: AGRICULTURE.pdf)\n",
      "2024-06-24 09:25:28,938 - INFO - +CORRECT classification: BPO (filename: BPO.pdf)\n",
      "2024-06-24 09:25:29,044 - INFO - -INCORRECT classification: predicted PUBLIC-RELATIONS, (filename: ARTS.pdf)\n",
      "2024-06-24 09:25:29,246 - INFO - +CORRECT classification: ACCOUNTANT (filename: ACCOUNTANT.pdf)\n",
      "2024-06-24 09:25:29,417 - INFO - +CORRECT classification: PUBLIC-RELATIONS (filename: PUBLIC-RELATIONS.pdf)\n",
      "2024-06-24 09:25:29,671 - INFO - +CORRECT classification: AVIATION (filename: AVIATION.pdf)\n",
      "2024-06-24 09:25:29,820 - INFO - -INCORRECT classification: predicted BUSINESS-DEVELOPMENT, (filename: CONSULTANT.pdf)\n",
      "2024-06-24 09:25:30,050 - INFO - +CORRECT classification: INFORMATION-TECHNOLOGY (filename: INFORMATION-TECHNOLOGY.pdf)\n",
      "2024-06-24 09:25:30,215 - INFO - +CORRECT classification: HR (filename: HR.pdf)\n",
      "2024-06-24 09:25:30,361 - INFO - +CORRECT classification: DESIGNER (filename: DESIGNER.pdf)\n",
      "2024-06-24 09:25:30,514 - INFO - +CORRECT classification: CONSTRUCTION (filename: CONSTRUCTION.pdf)\n",
      "2024-06-24 09:25:30,617 - INFO - +CORRECT classification: SALES (filename: SALES.pdf)\n",
      "2024-06-24 09:25:30,739 - INFO - -INCORRECT classification: predicted AGRICULTURE, (filename: AUTOMOBILE.pdf)\n",
      "2024-06-24 09:25:30,898 - INFO - +CORRECT classification: FITNESS (filename: FITNESS.pdf)\n",
      "2024-06-24 09:25:31,046 - INFO - +CORRECT classification: DIGITAL-MEDIA (filename: DIGITAL-MEDIA.pdf)\n",
      "2024-06-24 09:25:31,135 - INFO - +CORRECT classification: CHEF (filename: CHEF.pdf)\n",
      "2024-06-24 09:25:31,260 - INFO - -INCORRECT classification: predicted INFORMATION-TECHNOLOGY, (filename: HEALTHCARE.pdf)\n",
      "2024-06-24 09:25:31,428 - INFO - +CORRECT classification: FINANCE (filename: FINANCE.pdf)\n",
      "2024-06-24 09:25:31,618 - INFO - +CORRECT classification: ENGINEERING (filename: ENGINEERING.pdf)\n",
      "2024-06-24 09:25:31,777 - INFO - +CORRECT classification: ADVOCATE (filename: ADVOCATE.pdf)\n",
      "2024-06-24 09:25:31,969 - INFO - -INCORRECT classification: predicted HEALTHCARE, (filename: BUSINESS-DEVELOPMENT.pdf)\n",
      "2024-06-24 09:25:32,087 - INFO - +CORRECT classification: BANKING (filename: BANKING.pdf)\n"
     ]
    }
   ],
   "source": [
    "classification = classify_pdfs_in_folder(\"db\")"
   ]
  },
  {
   "cell_type": "code",
   "execution_count": 86,
   "metadata": {},
   "outputs": [],
   "source": [
    "accu = sum(classification)/len(classification)"
   ]
  },
  {
   "cell_type": "code",
   "execution_count": 87,
   "metadata": {},
   "outputs": [
    {
     "data": {
      "image/png": "[encoded data removed]",
      "text/plain": [
       "<Figure size 600x400 with 1 Axes>"
      ]
     },
     "metadata": {},
     "output_type": "display_data"
    }
   ],
   "source": [
    "plot_percentage_bar(accu)"
   ]
  }
 ],
 "metadata": {
  "kernelspec": {
   "display_name": "Python 3 (ipykernel)",
   "language": "python",
   "name": "python3"
  },
  "language_info": {
   "codemirror_mode": {
    "name": "ipython",
    "version": 3
   },
   "file_extension": ".py",
   "mimetype": "text/x-python",
   "name": "python",
   "nbconvert_exporter": "python",
   "pygments_lexer": "ipython3",
   "version": "3.12.3"
  }
 },
 "nbformat": 4,
 "nbformat_minor": 4
}
